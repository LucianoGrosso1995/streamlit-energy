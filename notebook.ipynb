{
 "cells": [
  {
   "cell_type": "code",
   "execution_count": 2,
   "metadata": {},
   "outputs": [],
   "source": [
    "import pandas as pd\n",
    "df_prod = pd.read_parquet('./data/database_prod_resource_basin.parquet')\n",
    "df_fracking = pd.read_csv('./data/fracking/datos-de-fractura-de-pozos-de-hidrocarburos-adjunto-iv-actualizacin-diaria.csv')"
   ]
  },
  {
   "cell_type": "code",
   "execution_count": 10,
   "metadata": {},
   "outputs": [
    {
     "data": {
      "text/plain": [
       "anio_if  mes_if\n",
       "2023     1         1068\n",
       "         2          645\n",
       "         3          957\n",
       "         4         1184\n",
       "         5          670\n",
       "         6          880\n",
       "         7          481\n",
       "         8           67\n",
       "         9          121\n",
       "Name: cantidad_fracturas, dtype: int64"
      ]
     },
     "execution_count": 10,
     "metadata": {},
     "output_type": "execute_result"
    }
   ],
   "source": [
    "df_fracking[df_fracking['anio_if']==2023].groupby(by=['anio_if','mes_if'])['cantidad_fracturas'].sum()"
   ]
  },
  {
   "cell_type": "code",
   "execution_count": 1,
   "metadata": {},
   "outputs": [],
   "source": [
    "import streamlit_authenticator as stauth\n",
    "hashed_passwords = stauth.Hasher(['abc', 'def']).generate()"
   ]
  },
  {
   "cell_type": "code",
   "execution_count": 2,
   "metadata": {},
   "outputs": [
    {
     "data": {
      "text/plain": [
       "['$2b$12$d485gfb28FwHg/oM/pKbY.N3YXr4NL1NxkzKjUrlyC3wx83LTo34S',\n",
       " '$2b$12$jbs7myO/XqWlRqJ6mKJl0.tc2iTHuomaSID2yVirX8VdBCuwAdKA2']"
      ]
     },
     "execution_count": 2,
     "metadata": {},
     "output_type": "execute_result"
    }
   ],
   "source": [
    "hashed_passwords"
   ]
  },
  {
   "cell_type": "code",
   "execution_count": null,
   "metadata": {},
   "outputs": [],
   "source": []
  }
 ],
 "metadata": {
  "kernelspec": {
   "display_name": "Python 3",
   "language": "python",
   "name": "python3"
  },
  "language_info": {
   "codemirror_mode": {
    "name": "ipython",
    "version": 3
   },
   "file_extension": ".py",
   "mimetype": "text/x-python",
   "name": "python",
   "nbconvert_exporter": "python",
   "pygments_lexer": "ipython3",
   "version": "3.11.5"
  }
 },
 "nbformat": 4,
 "nbformat_minor": 2
}
