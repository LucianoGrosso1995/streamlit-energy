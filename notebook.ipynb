{
 "cells": [
  {
   "cell_type": "code",
   "execution_count": 117,
   "metadata": {},
   "outputs": [],
   "source": [
    "import pandas as pd \n",
    "import os\n",
    "import warnings \n",
    "import numpy as np\n",
    "warnings.filterwarnings('ignore')\n",
    "\n",
    "_CSV_PATH = './data/csv'\n",
    "_PARQUET_PATH = './data'\n",
    "\n",
    "# Concateno csv de producción en un archivo parquet. \n",
    "# Esto debería correrse cada vez que la carpeta de data/csv se actualiza\n",
    "data_files = os.listdir(_CSV_PATH)\n",
    "df = pd.concat((pd.read_csv(_CSV_PATH + '/' + filename) for filename in data_files))\n",
    "\n",
    "# Creo columnas\n",
    "df['fecha_data'] = pd.to_datetime(df['fecha_data'],yearfirst=True)\n",
    "df['dias'] = df['fecha_data'].dt.day\n",
    "df['Th bbl/d'] = df['prod_pet'] / df['dias'] * 6.2898 / 1000 \n",
    "df['Mm3/d'] = df['prod_gas'] / df['dias'] / 1000\n",
    "df['Th boe/d'] = df['Th bbl/d'] + df['Mm3/d'] * 6.29\n",
    "\n",
    "# Renombro columnas\n",
    "df.rename(columns={'fecha_data':'Date'},inplace=True)\n",
    "\n",
    "# Resuelvo datos NaN y errores\n",
    "df['sub_tipo_recurso'].fillna('CONVENCIONAL',inplace=True)\n",
    "df['idempresa'] = df['idempresa'].astype(str)\n",
    "\n",
    "# Encuentro primer mes para curvas de producción\n",
    "df_primer_mes = pd.DataFrame(df.groupby(by='idpozo')['Date'].min()).reset_index()\n",
    "df_primer_mes.rename(columns={'Date':'primer_mes'},inplace=True)\n",
    "df = df.merge(df_primer_mes,on='idpozo',how='left')\n",
    "df['anio_inicio'] = df['primer_mes'].apply(lambda x: x.year)\n",
    "df['mes_produccion'] = ((df['Date'] - df['primer_mes'])/np.timedelta64(1,'D')/30).round() + 1 "
   ]
  },
  {
   "cell_type": "code",
   "execution_count": 118,
   "metadata": {},
   "outputs": [],
   "source": [
    "df_curve = df.groupby(by=['anio_inicio','mes_produccion','sub_tipo_recurso','tipopozo','cuenca','areapermisoconcesion','empresa']).aggregate({'Th boe/d':'sum','sigla':'count'}).reset_index()"
   ]
  },
  {
   "cell_type": "code",
   "execution_count": 122,
   "metadata": {},
   "outputs": [],
   "source": [
    "df_curve.to_clipboard()"
   ]
  },
  {
   "cell_type": "code",
   "execution_count": 123,
   "metadata": {},
   "outputs": [],
   "source": [
    "source = df_curve.groupby(by=['anio_inicio','mes_produccion','tipopozo']).aggregate({'Th boe/d':'sum','sigla':'sum'})\n",
    "source['boe/d/pozo'] = source['Th boe/d'] * 1000 / source['sigla']"
   ]
  },
  {
   "cell_type": "code",
   "execution_count": 124,
   "metadata": {},
   "outputs": [
    {
     "data": {
      "text/html": [
       "<div>\n",
       "<style scoped>\n",
       "    .dataframe tbody tr th:only-of-type {\n",
       "        vertical-align: middle;\n",
       "    }\n",
       "\n",
       "    .dataframe tbody tr th {\n",
       "        vertical-align: top;\n",
       "    }\n",
       "\n",
       "    .dataframe thead th {\n",
       "        text-align: right;\n",
       "    }\n",
       "</style>\n",
       "<table border=\"1\" class=\"dataframe\">\n",
       "  <thead>\n",
       "    <tr style=\"text-align: right;\">\n",
       "      <th></th>\n",
       "      <th></th>\n",
       "      <th></th>\n",
       "      <th>Th boe/d</th>\n",
       "      <th>sigla</th>\n",
       "      <th>boe/d/pozo</th>\n",
       "    </tr>\n",
       "    <tr>\n",
       "      <th>anio_inicio</th>\n",
       "      <th>mes_produccion</th>\n",
       "      <th>tipopozo</th>\n",
       "      <th></th>\n",
       "      <th></th>\n",
       "      <th></th>\n",
       "    </tr>\n",
       "  </thead>\n",
       "  <tbody>\n",
       "    <tr>\n",
       "      <th rowspan=\"5\" valign=\"top\">2006</th>\n",
       "      <th rowspan=\"5\" valign=\"top\">1.0</th>\n",
       "      <th>Acuífero</th>\n",
       "      <td>0.310841</td>\n",
       "      <td>277</td>\n",
       "      <td>1.122169</td>\n",
       "    </tr>\n",
       "    <tr>\n",
       "      <th>Gasífero</th>\n",
       "      <td>753.313861</td>\n",
       "      <td>3185</td>\n",
       "      <td>236.519266</td>\n",
       "    </tr>\n",
       "    <tr>\n",
       "      <th>Inyección de Agua</th>\n",
       "      <td>0.395398</td>\n",
       "      <td>6813</td>\n",
       "      <td>0.058036</td>\n",
       "    </tr>\n",
       "    <tr>\n",
       "      <th>Inyección de Gas</th>\n",
       "      <td>0.005754</td>\n",
       "      <td>81</td>\n",
       "      <td>0.071041</td>\n",
       "    </tr>\n",
       "    <tr>\n",
       "      <th>Otro tipo</th>\n",
       "      <td>1.436457</td>\n",
       "      <td>21930</td>\n",
       "      <td>0.065502</td>\n",
       "    </tr>\n",
       "  </tbody>\n",
       "</table>\n",
       "</div>"
      ],
      "text/plain": [
       "                                                Th boe/d  sigla  boe/d/pozo\n",
       "anio_inicio mes_produccion tipopozo                                        \n",
       "2006        1.0            Acuífero             0.310841    277    1.122169\n",
       "                           Gasífero           753.313861   3185  236.519266\n",
       "                           Inyección de Agua    0.395398   6813    0.058036\n",
       "                           Inyección de Gas     0.005754     81    0.071041\n",
       "                           Otro tipo            1.436457  21930    0.065502"
      ]
     },
     "execution_count": 124,
     "metadata": {},
     "output_type": "execute_result"
    }
   ],
   "source": [
    "source.head()"
   ]
  },
  {
   "cell_type": "code",
   "execution_count": null,
   "metadata": {},
   "outputs": [],
   "source": []
  }
 ],
 "metadata": {
  "kernelspec": {
   "display_name": "Python 3",
   "language": "python",
   "name": "python3"
  },
  "language_info": {
   "codemirror_mode": {
    "name": "ipython",
    "version": 3
   },
   "file_extension": ".py",
   "mimetype": "text/x-python",
   "name": "python",
   "nbconvert_exporter": "python",
   "pygments_lexer": "ipython3",
   "version": "3.11.5"
  }
 },
 "nbformat": 4,
 "nbformat_minor": 2
}
